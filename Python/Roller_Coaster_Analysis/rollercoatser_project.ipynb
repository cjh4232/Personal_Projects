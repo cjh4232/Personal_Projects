{
 "metadata": {
  "language_info": {
   "codemirror_mode": {
    "name": "ipython",
    "version": 3
   },
   "file_extension": ".py",
   "mimetype": "text/x-python",
   "name": "python",
   "nbconvert_exporter": "python",
   "pygments_lexer": "ipython3",
   "version": 3
  },
  "orig_nbformat": 2
 },
 "nbformat": 4,
 "nbformat_minor": 2,
 "cells": [
  {
   "source": [
    "# Roller Coaster Project\n",
    "\n",
    "## Project Goals\n",
    "\n",
    "I will create several data visualizations that will give us insight into the world of roller coasters.\n",
    "\n",
    "## Project Requirements\n",
    "\n",
    "1. Roller coasters are thrilling amusement park rides designed to make you squeal and scream! They take you up high, drop you to the ground quickly, and sometimes even spin you upside down before returning to a stop. Today I'll be taking control back from the roller coasters and visualizing data covering international roller coaster rankings and roller coaster statistics.\n",
    "Roller coasters are often split into two main categories based on their construction material: wood or steel. Rankings for the best wood and steel roller coasters from the 2013 to 2018 Golden Ticket Awards are provided in 'Golden_Ticket_Award_Winners_Wood.csv' and 'Golden_Ticket_Award_Winners_Steel.csv', respectively. I will load each csv into a DataFrame and inspect it to gain familiarity with the data.\n",
    "\n",
    "2. Write a function that will plot the ranking of a given roller coaster over time as a line. The function will take a roller coaster’s name and a ranking DataFrame as arguments.\n",
    "We'll call the function with \"El Toro\" as the roller coaster name and the wood ranking DataFrame.\n"
   ],
   "cell_type": "markdown",
   "metadata": {}
  },
  {
   "cell_type": "code",
   "execution_count": null,
   "metadata": {},
   "outputs": [],
   "source": [
    "# Import necessary libraries\n",
    "import pandas as pd\n",
    "import numpy as np\n",
    "import matplotlib.pyplot as plt"
   ]
  },
  {
   "cell_type": "code",
   "execution_count": null,
   "metadata": {},
   "outputs": [],
   "source": [
    "# load rankings data here:\n",
    "wood_df = pd.read_csv('Golden_Ticket_Award_Winners_Wood.csv')\n",
    "steel_df = pd.read_csv('Golden_Ticket_Award_Winners_Steel.csv')\n",
    "\n",
    "# Combine the rankings into one single DataFrame\n",
    "w_s_df = pd.concat([wood_df,steel_df])\n",
    "\n",
    "# write function to plot rankings over time for 1 roller coaster here:\n",
    "def rank_plot (name, park, df):\n",
    "  \n",
    "  # Separate data from DataFrame based on the name of the ride and the park\n",
    "  dff = df[(df['Name'] == name) & (df['Park'] == park)].reset_index()\n",
    "  \n",
    "  # Make a list of the rank values\n",
    "  rank = dff['Rank'].values\n",
    "\n",
    "  # Make a list of the year values\n",
    "  years = dff['Year of Rank'].values\n",
    "    \n",
    "  # Clear out any lingering figures\n",
    "  plt.clf()\n",
    "  \n",
    "  # Create a standard plot where x=years and y=rank, the marker is circle\n",
    "  plt.plot(years, rank, marker='o')\n",
    "  \n",
    "  # Add a title and some axis labels\n",
    "  plt.title('{} Ranking Over Time'.format(name))\n",
    "  plt.xlabel('Years')\n",
    "  plt.ylabel('Rank')\n",
    "  \n",
    "  # Show the plot\n",
    "  plt.show()\n",
    "\n",
    "# Uncomment to test the function rank_plot    \n",
    "#rank_plot ('El Toro', 'Six Flags Great Adventure', w_s_df)\n",
    "\n",
    "# Clear any lingering figures for the next challenge\n",
    "plt.clf()"
   ]
  },
  {
   "source": [
    "3. Write a function that will plot the ranking of two given roller coasters over time as lines. The function should take both roller coasters’ names and a ranking DataFrame as arguments.\n",
    "We'll call the function with \"El Toro\" as one roller coaster name, “Boulder Dash“ as the other roller coaster name, and the wood ranking DataFrame."
   ],
   "cell_type": "markdown",
   "metadata": {}
  },
  {
   "cell_type": "code",
   "execution_count": null,
   "metadata": {},
   "outputs": [],
   "source": [
    "# write function to plot rankings over time for 2 roller coasters here:\n",
    "def rank_plot2 (names, parks, df):\n",
    "  \n",
    "  # Define the first & second roller coaster rank & year lists from the input DataFrame\n",
    "  rank1 = df[(df['Name'] == names[0]) & (df['Park'] == parks[0])].Rank.values\n",
    "  rank2 = df[(df['Name'] == names[1]) & (df['Park'] == parks[1])].Rank.values\n",
    "  years1 = df[(df['Name'] == names[0]) & (df['Park'] == parks[0])]['Year of Rank'].values\n",
    "  years2 = df[(df['Name'] == names[1]) & (df['Park'] == parks[1])]['Year of Rank'].values\n",
    "  \n",
    "  # Clear any lingering figures\n",
    "  plt.clf()\n",
    "  \n",
    "  # First & second plots with corresponding labels and differentiating colors\n",
    "  plt.plot(years1, rank1, marker='o', label=names[0], color='green')\n",
    "  plt.plot(years2, rank2, marker='o', label=names[1], color='blue')\n",
    "  \n",
    "  # Add a title and some axis labels\n",
    "  plt.title('{} and {} Ranking Over Time'.format(names[0], names[1]))\n",
    "  plt.xlabel('Years')\n",
    "  plt.ylabel('Rank')\n",
    "  \n",
    "  # Show the plot\n",
    "  plt.show()\n",
    "\n",
    "# Uncomment to test the rank_plot2 function with two rides @ two parks\n",
    "#rank_plot2 (['El Toro', 'Boulder Dash'], ['Six Flags Great Adventure', 'Lake Compounce'], wood_steel_df)\n",
    "\n",
    "# Clear any lingering figures for the next challenge\n",
    "plt.clf()"
   ]
  },
  {
   "source": [
    "4. Write a function that will plot the ranking of the top n ranked roller coasters over time as lines. The function should take a number n and a ranking DataFrame as arguments.\n",
    "For example, if n == 5, your function should plot a line for each roller coaster that has a rank of 5 or lower.\n",
    "We'll call the function with a value for n and either the wood ranking or steel ranking DataFrame."
   ],
   "cell_type": "markdown",
   "metadata": {}
  },
  {
   "cell_type": "code",
   "execution_count": null,
   "metadata": {},
   "outputs": [],
   "source": [
    "# write function to plot top n rankings over time here:\n",
    "def top_n_ranks(df, n):\n",
    "\n",
    "  # Create a new DataFrame based on the top n rankings\n",
    "  top_n_rankings = df[df['Rank'] <= n]\n",
    "  \n",
    "  # Create an axis object\n",
    "  ax = plt.subplot()\n",
    "\n",
    "  # For loop to iterate through the top_n_rankings for the Name of the roller coaster\n",
    "  for coaster in set(top_n_rankings['Name']):\n",
    "    coaster_rankings = top_n_rankings[top_n_rankings['Name'] == coaster]\n",
    "    ax.plot(coaster_rankings['Year of Rank'],coaster_rankings['Rank'],label=coaster)\n",
    "  \n",
    "  # Add a title, a legend, and some axis labels\n",
    "  plt.title('Top {} Rollercoasters'.format(n))\n",
    "  plt.legend(bbox_to_anchor=(1.04,1), loc=\"upper left\")\n",
    "  plt.ylabel('Rank')\n",
    "  plt.xlabel('Year')\n",
    "  \n",
    "  # Show the plot\n",
    "  plt.show()\n",
    "\n",
    "# Uncomment to test the top_n_ranks function\n",
    "#top_n_ranks(wood_steel_df, 3)\n",
    "\n",
    "# Clear out any lingering figures\n",
    "plt.clf()"
   ]
  },
  {
   "source": [
    "5. Now that we’ve visualized rankings over time, let’s dive into the actual statistics of roller coasters themselves. Captain Coaster is a popular site for recording roller coaster information. Data on all roller coasters documented on Captain Coaster has been accessed through its API and stored in roller_coasters.csv."
   ],
   "cell_type": "markdown",
   "metadata": {}
  },
  {
   "cell_type": "code",
   "execution_count": null,
   "metadata": {},
   "outputs": [],
   "source": [
    "# load roller coaster data here:\n",
    "rc_df = pd.read_csv('roller_coasters.csv')\n",
    "\n",
    "# I want to get a feel for what the data looks like and what the columns are\n",
    "print(rc_df.head())\n",
    "print(rc_df.columns)\n",
    "# print(rc_df.describe())\n",
    "\n",
    "# write function to plot histogram of column values here:\n",
    "\n",
    "def find_num_inversion(df, park_name):\n",
    "\n",
    "  # Create a new DataFrame based on the park name from the input\n",
    "  park_coaster = df[df['park'] == park_name]\n",
    "  \n",
    "  # This is a list of locations for the bars based on how long the data is\n",
    "  x_values = range(len(park_coaster))\n",
    "\n",
    "  # Create an axis object\n",
    "  ax = plt.subplot()\n",
    "  \n",
    "  # Create the plot using the x_values as x locations and park_coaster as heights\n",
    "  plt.bar(x_values, park_coaster)\n",
    "  ax.set_xticks(x_values)\n",
    "  plt.show()\n",
    "\n",
    "\n",
    "find_num_inversion(rc_df)"
   ]
  }
 ]
}